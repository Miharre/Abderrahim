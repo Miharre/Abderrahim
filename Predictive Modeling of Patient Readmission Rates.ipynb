{
 "cells": [
  {
   "cell_type": "markdown",
   "id": "f251a32d",
   "metadata": {},
   "source": [
    "# Project 7: Predictive Modeling of Patient Readmission Rates\n",
    "\n",
    "## Objective:\n",
    "To develop a predictive model to identify patients at high risk of readmission within 30 days after discharge, utilizing historical healthcare data.\n",
    "\n",
    "## Data Source:\n",
    "Electronic Health Records (EHR) containing information about patient demographics, medical history, medications, procedures, and outcomes.\n",
    "\n",
    "## Tools and Technologies:\n",
    "Python for data analysis and machine learning, Jupyter Notebooks for code development, and relevant libraries such as Pandas, NumPy, scikit-learn, and Matplotlib/Seaborn for visualization.\n",
    "\n",
    "### Step 1: Data Collection\n",
    "```python\n",
    "# Assuming you have a CSV file with the data\n",
    "data_path = \"path/to/your/data.csv\"\n",
    "df = pd.read_csv(data_path)\n"
   ]
  },
  {
   "cell_type": "code",
   "execution_count": 12,
   "id": "ed616c49",
   "metadata": {},
   "outputs": [],
   "source": [
    "import pandas as pd\n",
    "import numpy as np\n",
    "from sklearn.datasets import make_classification\n",
    "from sklearn.preprocessing import LabelEncoder\n",
    "\n",
    "# Seed for reproducibility\n",
    "np.random.seed(42)\n",
    "\n",
    "# Generate synthetic data\n",
    "n_samples = 1000\n",
    "n_features = 10\n",
    "\n",
    "X, y = make_classification(\n",
    "    n_samples=n_samples,\n",
    "    n_features=n_features,\n",
    "    n_informative=8,\n",
    "    n_redundant=2,\n",
    "    n_clusters_per_class=1,\n",
    "    random_state=42\n",
    ")\n",
    "\n",
    "# Create a DataFrame\n",
    "columns = [f\"feature_{i}\" for i in range(1, n_features + 1)]\n",
    "df = pd.DataFrame(data=X, columns=columns)\n",
    "df['readmitted'] = y\n",
    "\n",
    "# Add synthetic patient information\n",
    "df['age'] = np.random.randint(18, 90, size=n_samples)\n",
    "df['gender'] = np.random.choice(['Male', 'Female'], size=n_samples)\n",
    "df['medical_condition'] = np.random.choice(['Diabetes', 'Hypertension', 'Heart Disease', 'None'], size=n_samples)\n",
    "df['medication'] = np.random.choice(['MedA', 'MedB', 'MedC', 'None'], size=n_samples)\n",
    "\n",
    "# Encode categorical variables\n",
    "le = LabelEncoder()\n",
    "df['gender'] = le.fit_transform(df['gender'])\n",
    "df['medical_condition'] = le.fit_transform(df['medical_condition'])\n",
    "df['medication'] = le.fit_transform(df['medication'])\n",
    "\n",
    "# Add noise to simulate readmission\n",
    "df['readmitted'] = df['readmitted'] + np.random.randint(0, 2, size=n_samples)\n",
    "\n",
    "# Save the synthetic dataset to a CSV file\n",
    "df.to_csv(\"synthetic_healthcare_data.csv\", index=False)\n"
   ]
  },
  {
   "cell_type": "markdown",
   "id": "aefb7400",
   "metadata": {},
   "source": [
    "### Step 2: Data Cleaning"
   ]
  },
  {
   "cell_type": "markdown",
   "id": "69344156",
   "metadata": {},
   "source": [
    "# Assuming you have handled missing values, outliers, and converted data types if needed\n"
   ]
  },
  {
   "cell_type": "markdown",
   "id": "06e9195f",
   "metadata": {},
   "source": [
    "### Step 3: Exploratory Data Analysis (EDA)"
   ]
  },
  {
   "cell_type": "code",
   "execution_count": 13,
   "id": "34c6ddbc",
   "metadata": {},
   "outputs": [],
   "source": [
    "# Assuming you have explored the data using summary statistics and visualizations\n"
   ]
  },
  {
   "cell_type": "markdown",
   "id": "8fde32df",
   "metadata": {},
   "source": [
    "### Step 4: Feature Engineering"
   ]
  },
  {
   "cell_type": "code",
   "execution_count": 14,
   "id": "2b96fa8d",
   "metadata": {},
   "outputs": [],
   "source": [
    "# Assuming you have created new features and encoded categorical variables\n"
   ]
  },
  {
   "cell_type": "markdown",
   "id": "39daf3d4",
   "metadata": {},
   "source": [
    "### Step 5: Data Splitting"
   ]
  },
  {
   "cell_type": "code",
   "execution_count": 15,
   "id": "ddf0b658",
   "metadata": {},
   "outputs": [],
   "source": [
    "# Assuming you have split the data into features (X) and target variable (y)\n",
    "X_train, X_test, y_train, y_test = train_test_split(X, y, test_size=0.2, random_state=42)\n"
   ]
  },
  {
   "cell_type": "markdown",
   "id": "16196ead",
   "metadata": {},
   "source": [
    "### Step 6: Model Selection"
   ]
  },
  {
   "cell_type": "code",
   "execution_count": 16,
   "id": "5079542a",
   "metadata": {},
   "outputs": [
    {
     "data": {
      "text/plain": [
       "RandomForestClassifier(random_state=42)"
      ]
     },
     "execution_count": 16,
     "metadata": {},
     "output_type": "execute_result"
    }
   ],
   "source": [
    "# Assuming you have chosen RandomForestClassifier as the model\n",
    "model = RandomForestClassifier(n_estimators=100, random_state=42)\n",
    "model.fit(X_train, y_train)\n"
   ]
  },
  {
   "cell_type": "markdown",
   "id": "c1f6da1b",
   "metadata": {},
   "source": [
    "### Step 7: Model Evaluation"
   ]
  },
  {
   "cell_type": "code",
   "execution_count": 17,
   "id": "11d248d9",
   "metadata": {},
   "outputs": [
    {
     "name": "stdout",
     "output_type": "stream",
     "text": [
      "Accuracy: 0.975\n",
      "Classification Report:\n",
      "               precision    recall  f1-score   support\n",
      "\n",
      "           0       0.99      0.96      0.98       102\n",
      "           1       0.96      0.99      0.97        98\n",
      "\n",
      "    accuracy                           0.97       200\n",
      "   macro avg       0.98      0.98      0.97       200\n",
      "weighted avg       0.98      0.97      0.98       200\n",
      "\n",
      "Confusion Matrix:\n",
      " [[98  4]\n",
      " [ 1 97]]\n"
     ]
    }
   ],
   "source": [
    "# Assuming you have evaluated the model using accuracy, classification report, and confusion matrix\n",
    "y_pred = model.predict(X_test)\n",
    "\n",
    "print(\"Accuracy:\", accuracy_score(y_test, y_pred))\n",
    "print(\"Classification Report:\\n\", classification_report(y_test, y_pred))\n",
    "print(\"Confusion Matrix:\\n\", confusion_matrix(y_test, y_pred))\n"
   ]
  },
  {
   "cell_type": "markdown",
   "id": "98d5571b",
   "metadata": {},
   "source": [
    "### Step 8: Hyperparameter Tuning"
   ]
  },
  {
   "cell_type": "code",
   "execution_count": 18,
   "id": "153dff9b",
   "metadata": {},
   "outputs": [],
   "source": [
    "# Assuming you have performed hyperparameter tuning for better model performance"
   ]
  },
  {
   "cell_type": "markdown",
   "id": "56572ee8",
   "metadata": {},
   "source": [
    "### Step 9: Model Interpretation"
   ]
  },
  {
   "cell_type": "code",
   "execution_count": 19,
   "id": "87b6bfcb",
   "metadata": {},
   "outputs": [
    {
     "data": {
      "image/png": "[encoded data removed]",
      "text/plain": [
       "<Figure size 720x432 with 1 Axes>"
      ]
     },
     "metadata": {
      "needs_background": "light"
     },
     "output_type": "display_data"
    }
   ],
   "source": [
    "# Assuming you have interpreted the model's feature importances\n",
    "feature_importances = model.feature_importances_\n",
    "\n",
    "# Get the column names of the features used in training\n",
    "feature_names = df.drop(\"readmitted\", axis=1).columns[:len(feature_importances)]\n",
    "\n",
    "# Create a DataFrame for better visualization\n",
    "feature_df = pd.DataFrame({'Feature': feature_names, 'Importance': feature_importances})\n",
    "\n",
    "# Sort the DataFrame by feature importance\n",
    "feature_df = feature_df.sort_values(by='Importance', ascending=False)\n",
    "\n",
    "# Plot the feature importances\n",
    "plt.figure(figsize=(10, 6))\n",
    "sns.barplot(x='Importance', y='Feature', data=feature_df)\n",
    "plt.title('Feature Importances')\n",
    "plt.show()\n"
   ]
  },
  {
   "cell_type": "markdown",
   "id": "75a910b8",
   "metadata": {},
   "source": [
    "### Step 10: Deployment"
   ]
  },
  {
   "cell_type": "code",
   "execution_count": 20,
   "id": "94425259",
   "metadata": {},
   "outputs": [],
   "source": [
    "# This would involve deploying the model in a healthcare environment, which is beyond the scope of this example.\n"
   ]
  },
  {
   "cell_type": "markdown",
   "id": "74c8b6cf",
   "metadata": {},
   "source": [
    "## Documentation:"
   ]
  },
  {
   "cell_type": "code",
   "execution_count": 21,
   "id": "8b8bf736",
   "metadata": {},
   "outputs": [],
   "source": [
    "# Document your code, including preprocessing steps, model selection, and key findings.\n",
    "# Save the synthetic dataset to a CSV file for reproducibility\n",
    "df.to_csv(\"synthetic_healthcare_data.csv\", index=False)\n"
   ]
  },
  {
   "cell_type": "markdown",
   "id": "dde15249",
   "metadata": {},
   "source": [
    "Remember, this is a simplified example, and in a real-world scenario, you'd need to consider additional factors such as ethical considerations, data privacy regulations, and collaboration with domain experts.\n",
    "\n",
    "\n",
    "\n",
    "\n"
   ]
  },
  {
   "cell_type": "code",
   "execution_count": 22,
   "id": "44ae8bbf",
   "metadata": {},
   "outputs": [
    {
     "name": "stdout",
     "output_type": "stream",
     "text": [
      "Accuracy: 0.53\n",
      "Classification Report:\n",
      "               precision    recall  f1-score   support\n",
      "\n",
      "           0       0.56      0.41      0.47        49\n",
      "           1       0.53      0.72      0.61       102\n",
      "           2       0.50      0.27      0.35        49\n",
      "\n",
      "    accuracy                           0.53       200\n",
      "   macro avg       0.53      0.46      0.48       200\n",
      "weighted avg       0.53      0.53      0.51       200\n",
      "\n",
      "Confusion Matrix:\n",
      " [[20 29  0]\n",
      " [16 73 13]\n",
      " [ 0 36 13]]\n"
     ]
    },
    {
     "data": {
      "image/png": "[encoded data removed]",
      "text/plain": [
       "<Figure size 720x432 with 1 Axes>"
      ]
     },
     "metadata": {
      "needs_background": "light"
     },
     "output_type": "display_data"
    }
   ],
   "source": [
    "# Import necessary libraries\n",
    "import pandas as pd\n",
    "import numpy as np\n",
    "from sklearn.model_selection import train_test_split\n",
    "from sklearn.ensemble import RandomForestClassifier\n",
    "from sklearn.metrics import accuracy_score, classification_report, confusion_matrix\n",
    "import matplotlib.pyplot as plt\n",
    "import seaborn as sns\n",
    "from sklearn.preprocessing import LabelEncoder\n",
    "\n",
    "# Step 1: Data Collection\n",
    "data_path = \"synthetic_healthcare_data.csv\"\n",
    "df = pd.read_csv(data_path)\n",
    "\n",
    "# Step 2: Data Cleaning\n",
    "# No specific data cleaning is needed for this synthetic dataset\n",
    "\n",
    "# Step 3: Exploratory Data Analysis (EDA)\n",
    "# Perform exploratory data analysis here if needed\n",
    "\n",
    "# Step 4: Feature Engineering\n",
    "# No specific feature engineering for this example\n",
    "\n",
    "# Step 5: Data Splitting\n",
    "X = df.drop(\"readmitted\", axis=1)  # Features\n",
    "y = df[\"readmitted\"]  # Target variable\n",
    "\n",
    "X_train, X_test, y_train, y_test = train_test_split(X, y, test_size=0.2, random_state=42)\n",
    "\n",
    "# Step 6: Model Selection\n",
    "model = RandomForestClassifier(n_estimators=100, random_state=42)\n",
    "model.fit(X_train, y_train)\n",
    "\n",
    "# Step 7: Model Evaluation\n",
    "y_pred = model.predict(X_test)\n",
    "\n",
    "print(\"Accuracy:\", accuracy_score(y_test, y_pred))\n",
    "print(\"Classification Report:\\n\", classification_report(y_test, y_pred))\n",
    "print(\"Confusion Matrix:\\n\", confusion_matrix(y_test, y_pred))\n",
    "\n",
    "# Step 8: Hyperparameter Tuning\n",
    "# Not implemented in this simplified example\n",
    "\n",
    "# Step 9: Model Interpretation\n",
    "# Extract feature importances\n",
    "feature_importances = model.feature_importances_\n",
    "feature_names = X.columns\n",
    "\n",
    "# Create a DataFrame for better visualization\n",
    "feature_df = pd.DataFrame({'Feature': feature_names, 'Importance': feature_importances})\n",
    "\n",
    "# Sort the DataFrame by feature importance\n",
    "feature_df = feature_df.sort_values(by='Importance', ascending=False)\n",
    "\n",
    "# Plot the feature importances\n",
    "plt.figure(figsize=(10, 6))\n",
    "sns.barplot(x='Importance', y='Feature', data=feature_df)\n",
    "plt.title('Feature Importances')\n",
    "plt.show()\n",
    "\n",
    "# Step 10: Deployment\n",
    "# This step involves deploying the model in a healthcare environment, which is beyond the scope of this example.\n",
    "\n",
    "# Documentation\n",
    "# Document your code, including preprocessing steps, model selection, and key findings.\n"
   ]
  },
  {
   "cell_type": "markdown",
   "id": "1999270f",
   "metadata": {},
   "source": [
    "The output we get includes the results of the classification model on the test set. Let's interpret these results:\n",
    "\n",
    " #### 1. Accuracy: 0.53\n",
    "\n",
    "* The accuracy is the proportion of correctly classified instances among the total instances. In this case, the model is approximately 53% accurate on the test set.\n",
    "\n",
    "#### 2. Classification Report:\n",
    "\n",
    "* ${\\bf Precision:}$ Indicates the accuracy of the positive predictions.\n",
    "* ${\\bf Recall:}$ Indicates the proportion of actual positive instances correctly predicted by the model.\n",
    "* ${\\bf F1-score:}$ The harmonic mean of precision and recall, providing a balance between the two.\n",
    "\n",
    "<span style=\"color:blue\">For the interpretation of the graph \"Feature Importance\":</span>\n",
    "\n",
    "<span style=\"color:blue\">* ${\\bf Feature \\hskip0.1cm Importances:}$ Each feature in the dataset is assigned an importance score by the Random Forest model. The higher the importance score, the more influential the feature is in making predictions.</span>\n",
    "\n",
    "<span style=\"color:blue\">* ${\\bf Bar \\hskip0.1cm Chart:}$ The bar chart displays the importance scores for each feature, sorted in descending order. The most important features are on the top.\n",
    "\n",
    "<span style=\"color:blue\">* ${\\bf Y-axis \\hskip0.1cm (Feature):}$ Represents the names of the features in the dataset.\n",
    "\n",
    "<span style=\"color:blue\">* ${\\bf X-axis \\hskip0.1cm (Importance):}$ Represents the importance scores assigned to each feature.\n",
    "\n",
    "<span style=\"color:blue\">${\\bf Key \\hskip0.1cm Takeaways:}$\n",
    "\n",
    "<span style=\"color:blue\">${\\bf 1. \\hskip0.1cm Top \\hskip0.1cm Features:}$ Features with higher bars are more important in predicting the target variable (readmission in this case).\n",
    "\n",
    "<span style=\"color:blue\">${\\bf 2. \\hskip0.1cm Feature \\hskip0.1cm Contribution:}$ The chart gives a visual representation of which features contribute the most to the model's decision-making process.\n",
    "\n",
    "<span style=\"color:blue\">${\\bf 3. \\hskip0.1cm Feature \\hskip0.1cm Importance \\hskip0.1cm Sum:}$ The sum of all bars is equal to 1, indicating the proportion of importance distributed among the features.\n",
    "\n",
    "<span style=\"color:blue\">${\\bf Action v Items:}$\n",
    "\n",
    "<span style=\"color:blue\">* Features with higher importance may be more critical in predicting readmission. Depending on the context, you might want to investigate or focus on these features for further analysis or intervention.\n",
    "\n",
    "<span style=\"color:blue\">* If some features have very low importance, you may consider re-evaluating whether they are </span>\n",
    "\n",
    "In summary, while accuracy is a common metric, it's essential to consider precision, recall, and F1-score, especially in imbalanced datasets. These metrics provide a more detailed understanding of the model's performance across different classes. Depending on the specific goals of your project, you might prioritize one metric over another. If there are specific aspects you'd like to improve or questions you have about the results, feel free to ask!\n",
    "\n",
    "\n",
    "\n",
    "\n",
    "\n"
   ]
  },
  {
   "cell_type": "code",
   "execution_count": null,
   "id": "2497c628",
   "metadata": {},
   "outputs": [],
   "source": []
  }
 ],
 "metadata": {
  "kernelspec": {
   "display_name": "Python 3 (ipykernel)",
   "language": "python",
   "name": "python3"
  },
  "language_info": {
   "codemirror_mode": {
    "name": "ipython",
    "version": 3
   },
   "file_extension": ".py",
   "mimetype": "text/x-python",
   "name": "python",
   "nbconvert_exporter": "python",
   "pygments_lexer": "ipython3",
   "version": "3.8.8"
  }
 },
 "nbformat": 4,
 "nbformat_minor": 5
}
