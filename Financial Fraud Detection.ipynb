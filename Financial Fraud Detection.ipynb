{
 "cells": [
  {
   "cell_type": "markdown",
   "id": "3c2c0143",
   "metadata": {},
   "source": [
    "# <p style=\"text-align: center;\">Project 3: Financial Fraud Detection</p>"
   ]
  },
  {
   "cell_type": "code",
   "execution_count": 1,
   "id": "de7b8a8e",
   "metadata": {},
   "outputs": [
    {
     "name": "stdout",
     "output_type": "stream",
     "text": [
      "Logistic Regression Accuracy: 0.942\n",
      "Random Forest Accuracy: 0.9025\n",
      "\n",
      "Logistic Regression Classification Report:\n",
      "              precision    recall  f1-score   support\n",
      "\n",
      "           0       0.94      1.00      0.97      1884\n",
      "           1       0.00      0.00      0.00       116\n",
      "\n",
      "    accuracy                           0.94      2000\n",
      "   macro avg       0.47      0.50      0.49      2000\n",
      "weighted avg       0.89      0.94      0.91      2000\n",
      "\n",
      "\n",
      "Random Forest Classification Report:\n",
      "              precision    recall  f1-score   support\n",
      "\n",
      "           0       0.94      0.96      0.95      1884\n",
      "           1       0.06      0.04      0.05       116\n",
      "\n",
      "    accuracy                           0.90      2000\n",
      "   macro avg       0.50      0.50      0.50      2000\n",
      "weighted avg       0.89      0.90      0.90      2000\n",
      "\n"
     ]
    },
    {
     "name": "stderr",
     "output_type": "stream",
     "text": [
      "C:\\Users\\jilal\\Anaconda3\\lib\\site-packages\\sklearn\\metrics\\_classification.py:1318: UndefinedMetricWarning: Precision and F-score are ill-defined and being set to 0.0 in labels with no predicted samples. Use `zero_division` parameter to control this behavior.\n",
      "  _warn_prf(average, modifier, msg_start, len(result))\n",
      "C:\\Users\\jilal\\Anaconda3\\lib\\site-packages\\sklearn\\metrics\\_classification.py:1318: UndefinedMetricWarning: Precision and F-score are ill-defined and being set to 0.0 in labels with no predicted samples. Use `zero_division` parameter to control this behavior.\n",
      "  _warn_prf(average, modifier, msg_start, len(result))\n",
      "C:\\Users\\jilal\\Anaconda3\\lib\\site-packages\\sklearn\\metrics\\_classification.py:1318: UndefinedMetricWarning: Precision and F-score are ill-defined and being set to 0.0 in labels with no predicted samples. Use `zero_division` parameter to control this behavior.\n",
      "  _warn_prf(average, modifier, msg_start, len(result))\n"
     ]
    }
   ],
   "source": [
    "import pandas as pd\n",
    "import numpy as np\n",
    "from sklearn.model_selection import train_test_split\n",
    "from sklearn.ensemble import RandomForestClassifier\n",
    "from sklearn.linear_model import LogisticRegression\n",
    "from sklearn.metrics import classification_report, accuracy_score, confusion_matrix\n",
    "\n",
    "# Set seed for reproducibility\n",
    "np.random.seed(42)\n",
    "\n",
    "# Number of transactions\n",
    "num_transactions = 10000\n",
    "\n",
    "# Generating synthetic data\n",
    "transaction_data = {\n",
    "    'TransactionID': range(1, num_transactions + 1),\n",
    "    'Amount': np.random.normal(loc=100, scale=50, size=num_transactions),\n",
    "    'Merchant': np.random.choice(['MerchantA', 'MerchantB', 'MerchantC'], size=num_transactions),\n",
    "    'IsFraud': np.random.choice([0, 1], size=num_transactions, p=[0.95, 0.05]),\n",
    "}\n",
    "\n",
    "# Creating a DataFrame\n",
    "df = pd.DataFrame(transaction_data)\n",
    "\n",
    "# Split data into features (X) and target variable (y)\n",
    "X = df[['Amount']]\n",
    "y = df['IsFraud']\n",
    "\n",
    "# Split the data into training and testing sets\n",
    "X_train, X_test, y_train, y_test = train_test_split(X, y, test_size=0.2, random_state=42)\n",
    "\n",
    "# Train Logistic Regression model\n",
    "logreg_model = LogisticRegression(random_state=42)\n",
    "logreg_model.fit(X_train, y_train)\n",
    "\n",
    "# Train Random Forest model\n",
    "rf_model = RandomForestClassifier(random_state=42)\n",
    "rf_model.fit(X_train, y_train)\n",
    "\n",
    "# Evaluate models\n",
    "logreg_predictions = logreg_model.predict(X_test)\n",
    "rf_predictions = rf_model.predict(X_test)\n",
    "\n",
    "print(\"Logistic Regression Accuracy:\", accuracy_score(y_test, logreg_predictions))\n",
    "print(\"Random Forest Accuracy:\", accuracy_score(y_test, rf_predictions))\n",
    "\n",
    "print(\"\\nLogistic Regression Classification Report:\")\n",
    "print(classification_report(y_test, logreg_predictions))\n",
    "\n",
    "print(\"\\nRandom Forest Classification Report:\")\n",
    "print(classification_report(y_test, rf_predictions))\n",
    "\n",
    "# Save the data to a CSV file\n",
    "df.to_csv('financial_transaction_data.csv', index=False)\n"
   ]
  },
  {
   "cell_type": "markdown",
   "id": "0c560215",
   "metadata": {},
   "source": [
    "This script generates synthetic data for financial transactions with features like transaction amount, merchant, and a binary indicator for fraud. The models are trained using Logistic Regression and Random Forest, and their performance is evaluated on a test set. Adjust the parameters as needed for your specific use case."
   ]
  },
  {
   "cell_type": "markdown",
   "id": "237b1763",
   "metadata": {},
   "source": [
    "### Interpretation: "
   ]
  },
  {
   "cell_type": "markdown",
   "id": "6872b5cd",
   "metadata": {},
   "source": [
    "The provided code generates synthetic financial transaction data, creates a DataFrame, and trains two machine learning models (Logistic Regression and Random Forest) to predict whether a transaction is fraudulent (IsFraud = 1) based on the transaction amount. Here's the interpretation of the outputs:\n",
    "\n",
    "#### 1. Accuracy Scores:\n",
    "\n",
    "* Logistic Regression Accuracy: The accuracy of the Logistic Regression model on the test set.\n",
    "* Random Forest Accuracy: The accuracy of the Random Forest model on the test set.\n",
    "\n",
    "#### 2. Classification Reports:\n",
    "\n",
    "* Logistic Regression Classification Report: Precision, recall, F1-score, and support for both classes (fraud and non-fraud) using the Logistic Regression model.\n",
    "* \n",
    "Random Forest Classification Report: Precision, recall, F1-score, and support for both classes using the Random Forest model.\n",
    "These outputs provide a comprehensive evaluation of the models' performance, including their ability to correctly classify fraudulent and non-fraudulent transactions. The classification report metrics offer insights into precision (accuracy of positive predictions), recall (sensitivity or true positive rate), and F1-score (harmonic mean of precision and recall), giving a more nuanced view of model performance beyond simple accuracy."
   ]
  },
  {
   "cell_type": "markdown",
   "id": "54ba9c9e",
   "metadata": {},
   "source": [
    "### Conclusion: "
   ]
  },
  {
   "cell_type": "markdown",
   "id": "9fc4c213",
   "metadata": {},
   "source": [
    "The Logistic Regression model achieves an accuracy of 94.2%, accurately classifying non-fraudulent transactions (class 0) but showing limitations in identifying fraudulent transactions (class 1), with low precision, recall, and F1-score for class 1. On the other hand, the Random Forest model achieves a slightly lower accuracy of 90.25%. It exhibits better performance in identifying non-fraudulent transactions but struggles with classifying fraudulent transactions, resulting in low precision, recall, and F1-score for class 1. In summary, both models excel in identifying non-fraudulent transactions but face challenges in accurately detecting fraudulent transactions, suggesting the need for further model refinement or alternative approaches for handling imbalanced datasets."
   ]
  }
 ],
 "metadata": {
  "kernelspec": {
   "display_name": "Python 3 (ipykernel)",
   "language": "python",
   "name": "python3"
  },
  "language_info": {
   "codemirror_mode": {
    "name": "ipython",
    "version": 3
   },
   "file_extension": ".py",
   "mimetype": "text/x-python",
   "name": "python",
   "nbconvert_exporter": "python",
   "pygments_lexer": "ipython3",
   "version": "3.8.8"
  }
 },
 "nbformat": 4,
 "nbformat_minor": 5
}
