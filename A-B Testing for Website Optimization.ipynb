{
 "cells": [
  {
   "cell_type": "markdown",
   "id": "10428423",
   "metadata": {},
   "source": [
    "# <p style=\"text-align: center;\">Project 4: A/B Testing for Website Optimization</p>"
   ]
  },
  {
   "cell_type": "code",
   "execution_count": 1,
   "id": "38fa61be",
   "metadata": {},
   "outputs": [
    {
     "data": {
      "image/png": "[encoded data removed]",
      "text/plain": [
       "<Figure size 720x432 with 1 Axes>"
      ]
     },
     "metadata": {
      "needs_background": "light"
     },
     "output_type": "display_data"
    }
   ],
   "source": [
    "import pandas as pd\n",
    "import numpy as np\n",
    "from scipy.stats import norm\n",
    "import matplotlib.pyplot as plt\n",
    "import seaborn as sns\n",
    "\n",
    "# Set seed for reproducibility\n",
    "np.random.seed(42)\n",
    "\n",
    "# Number of users in each group\n",
    "num_control_group = 1000\n",
    "num_variant_group = 1200\n",
    "\n",
    "# Conversion rates\n",
    "conversion_rate_control = 0.12  # 12% conversion rate for control group\n",
    "conversion_rate_variant = 0.15  # 15% conversion rate for variant group\n",
    "\n",
    "# Generating synthetic data for A/B testing\n",
    "control_group = np.random.choice([0, 1], size=num_control_group, p=[1 - conversion_rate_control, conversion_rate_control])\n",
    "variant_group = np.random.choice([0, 1], size=num_variant_group, p=[1 - conversion_rate_variant, conversion_rate_variant])\n",
    "\n",
    "# Create a DataFrame\n",
    "ab_test_data = pd.DataFrame({\n",
    "    'UserID': range(1, num_control_group + num_variant_group + 1),\n",
    "    'Group': ['Control'] * num_control_group + ['Variant'] * num_variant_group,\n",
    "    'Converted': np.concatenate([control_group, variant_group])\n",
    "})\n",
    "\n",
    "# Visualize the distribution of conversion rates in both groups\n",
    "plt.figure(figsize=(10, 6))\n",
    "sns.histplot(data=ab_test_data, x='Converted', hue='Group', multiple=\"stack\", stat=\"density\", common_norm=False)\n",
    "plt.title('Distribution of Conversion Rates in A/B Test')\n",
    "plt.xlabel('Conversion (1: Converted, 0: Not Converted)')\n",
    "plt.ylabel('Density')\n",
    "plt.show()\n",
    "\n",
    "# Save the data to a CSV file\n",
    "ab_test_data.to_csv('ab_test_data.csv', index=False)\n"
   ]
  },
  {
   "cell_type": "markdown",
   "id": "7cb9938f",
   "metadata": {},
   "source": [
    "Here's an interpretation based on the synthetic data generated:\n",
    "\n",
    "### 1. Conversion Rates:\n",
    "\n",
    "Control Group (12%): The proportion of users who converted (e.g., made a purchase, signed up) in the control group is 12%.\n",
    "Variant Group (15%): The variant group, which experienced the changes or optimizations, has a higher conversion rate of 15%.\n",
    "\n",
    "### 2. Visualizing the Distribution:\n",
    "\n",
    "The histogram visually represents the distribution of conversion rates in both the control and variant groups.\n",
    "You can observe the shift in the distribution of the variant group to the right, indicating a higher concentration of converted users.\n",
    "\n",
    "### 3. Statistical Significance:\n",
    "\n",
    "Conduct statistical tests, such as a chi-squared test or a t-test, to determine if the observed differences in conversion rates are statistically significant.\n",
    "If the p-value is below a predefined significance level (e.g., 0.05), you may conclude that the observed differences are not due to random chance.\n",
    "\n",
    "### 4. Impact on Conversion:\n",
    "\n",
    "The higher conversion rate in the variant group suggests that the implemented changes had a positive impact on user behavior.\n",
    "The increase from 12% to 15% represents a relative improvement of 25%.\n",
    "\n",
    "### 5. Practical Significance:\n",
    "\n",
    "Consider not only statistical significance but also practical significance. Even if the results are statistically significant, assess whether the observed improvement is practically meaningful for the business.\n",
    "\n",
    "### 6. Business Recommendations:\n",
    "\n",
    "Based on the analysis, it is recommended to implement the changes from the variant group on the live website to potentially improve overall conversion rates.\n",
    "\n",
    "### 7. Future Steps:\n",
    "\n",
    "Monitor the long-term impact of the changes on user behavior.\n",
    "Consider additional metrics such as user engagement, revenue per user, or any other relevant KPIs."
   ]
  },
  {
   "cell_type": "code",
   "execution_count": null,
   "id": "a57d6be5",
   "metadata": {},
   "outputs": [],
   "source": []
  },
  {
   "cell_type": "code",
   "execution_count": null,
   "id": "dba66812",
   "metadata": {},
   "outputs": [],
   "source": []
  }
 ],
 "metadata": {
  "kernelspec": {
   "display_name": "Python 3 (ipykernel)",
   "language": "python",
   "name": "python3"
  },
  "language_info": {
   "codemirror_mode": {
    "name": "ipython",
    "version": 3
   },
   "file_extension": ".py",
   "mimetype": "text/x-python",
   "name": "python",
   "nbconvert_exporter": "python",
   "pygments_lexer": "ipython3",
   "version": "3.8.8"
  }
 },
 "nbformat": 4,
 "nbformat_minor": 5
}
